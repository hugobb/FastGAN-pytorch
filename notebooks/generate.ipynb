{
 "cells": [
  {
   "cell_type": "code",
   "execution_count": null,
   "metadata": {},
   "outputs": [],
   "source": [
    "from fastgan import FastGAN\n",
    "from torchvision import utils as vutils\n",
    "import torch\n",
    "\n",
    "ndf = 64\n",
    "ngf = 64\n",
    "nz = 256\n",
    "im_size = 256\n",
    "num_images = 16\n",
    "model = FastGAN(ngf=ngf, nz=nz, im_size=im_size)\n",
    "# model.load_state_dict(torch.load('weights/generator.pth'))\n",
    "\n",
    "noise = torch.FloatTensor(num_images, nz).normal_(0, 1)\n",
    "\n",
    "with torch.no_grad():\n",
    "    vutils.save_image(model(noise)[0].add(1).mul(0.5), \"images.png\", nrow=4)"
   ]
  },
  {
   "cell_type": "code",
   "execution_count": null,
   "metadata": {},
   "outputs": [],
   "source": []
  }
 ],
 "metadata": {
  "kernelspec": {
   "display_name": ".env",
   "language": "python",
   "name": "python3"
  },
  "language_info": {
   "codemirror_mode": {
    "name": "ipython",
    "version": 3
   },
   "file_extension": ".py",
   "mimetype": "text/x-python",
   "name": "python",
   "nbconvert_exporter": "python",
   "pygments_lexer": "ipython3",
   "version": "3.10.4"
  }
 },
 "nbformat": 4,
 "nbformat_minor": 2
}
